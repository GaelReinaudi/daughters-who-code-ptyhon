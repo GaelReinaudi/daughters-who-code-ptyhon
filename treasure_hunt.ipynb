{
 "cells": [
  {
   "cell_type": "markdown",
   "metadata": {},
   "source": [
    "## This is a base of code aimed at producing math problems that are useful for a treasure hunt"
   ]
  },
  {
   "cell_type": "code",
   "execution_count": 1,
   "metadata": {},
   "outputs": [
    {
     "data": {
      "text/plain": [
       "['08', '05', '12', '12', '15']"
      ]
     },
     "execution_count": 1,
     "metadata": {},
     "output_type": "execute_result"
    }
   ],
   "source": [
    "def str2num(my_word):\n",
    "    nums = []\n",
    "    for c in my_word.lower():\n",
    "        n = ord(c) - ord('a') + 1\n",
    "        n = max(0, n)        \n",
    "        nums.append(f'{n:02}')\n",
    "    return nums\n",
    "str2num('hello')"
   ]
  },
  {
   "cell_type": "code",
   "execution_count": 2,
   "metadata": {},
   "outputs": [
    {
     "name": "stdout",
     "output_type": "stream",
     "text": [
      "['01', '02', '03', '00', '04', '05']\n",
      "['16', '15', '18', '19', '03', '08', '05']\n",
      "16151819030805\n"
     ]
    }
   ],
   "source": [
    "def str2bignum(s):\n",
    "    nums = ''.join(str2num(s))\n",
    "    return int(nums)\n",
    "\n",
    "print(str2num(\"abc de\"))\n",
    "print(str2num(\"porsche\"))\n",
    "print(str2bignum(\"porsche\"))"
   ]
  },
  {
   "cell_type": "code",
   "execution_count": 3,
   "metadata": {},
   "outputs": [
    {
     "data": {
      "text/plain": [
       "[1, 2, 4, 8, 2063, 4126, 8252, 16504]"
      ]
     },
     "execution_count": 3,
     "metadata": {},
     "output_type": "execute_result"
    }
   ],
   "source": [
    "import math\n",
    "\n",
    "def divisorGenerator(n):\n",
    "    large_divisors = []\n",
    "    for i in range(1, int(math.sqrt(n) + 1)):\n",
    "        if n % i == 0:\n",
    "            yield i\n",
    "            if i*i != n:\n",
    "                large_divisors.append(n // i)\n",
    "    for divisor in reversed(large_divisors):\n",
    "        yield divisor\n",
    "\n",
    "list(divisorGenerator(16504))"
   ]
  },
  {
   "cell_type": "code",
   "execution_count": 4,
   "metadata": {},
   "outputs": [
    {
     "name": "stdout",
     "output_type": "stream",
     "text": [
      "\n",
      "   788248\n",
      "x      83\n",
      "= 65424584\n",
      "\n"
     ]
    }
   ],
   "source": [
    "def make_mult(n, k=2):\n",
    "    gen = list(divisorGenerator(n))\n",
    "    for g in range(len(gen)):\n",
    "        if len(str(gen[g])) > k:\n",
    "            m = gen[g-1]\n",
    "            break\n",
    "    return(f\"\\n   {n//m}\\nx{' '*(len(str(n//m))-len(str(m))+2)}{m}\\n= {n}\\n\")\n",
    "\n",
    "print(make_mult(65424584))"
   ]
  },
  {
   "cell_type": "code",
   "execution_count": 5,
   "metadata": {},
   "outputs": [
    {
     "name": "stdout",
     "output_type": "stream",
     "text": [
      "\n",
      "    329747 \n",
      "+   325237\n",
      "= 654984\n",
      "\n"
     ]
    }
   ],
   "source": [
    "import random\n",
    "def make_add(n):\n",
    "    r = random.randint(n//4, n//2)\n",
    "    return(f\"\\n    {n - r} \\n+  {' '*(len(str(n-r))-len(str(r))+1)}{r}\\n= {n}\\n\")\n",
    "\n",
    "print(make_add(654984))"
   ]
  },
  {
   "cell_type": "code",
   "execution_count": 6,
   "metadata": {},
   "outputs": [
    {
     "name": "stdout",
     "output_type": "stream",
     "text": [
      "zaz = 260126\n",
      "aza = 12601\n",
      "papa = 16011601\n",
      "maman = 1301130114\n",
      "lisa = 12091901\n",
      "maya = 13012501\n",
      "abcedfghaij = 102030504060708010910\n",
      "klmnopqrstu = 1112131415161718192021\n",
      "vwxyz = 2223242526\n"
     ]
    }
   ],
   "source": [
    "print('zaz =', str2bignum(\"zaz\"))\n",
    "print('aza =', str2bignum(\"aza\"))\n",
    "print('papa =', str2bignum(\"papa\"))\n",
    "print('maman =', str2bignum(\"maman\"))\n",
    "print('lisa =', str2bignum(\"lisa\"))\n",
    "print('maya =', str2bignum(\"maya\"))\n",
    "print('abcedfghaij =', str2bignum(\"abcedfghaij\"))\n",
    "print('klmnopqrstu =', str2bignum(\"klmnopqrstu\"))\n",
    "print('vwxyz =', str2bignum(\"vwxyz\"))"
   ]
  },
  {
   "cell_type": "code",
   "execution_count": null,
   "metadata": {},
   "outputs": [],
   "source": []
  },
  {
   "cell_type": "code",
   "execution_count": null,
   "metadata": {},
   "outputs": [],
   "source": []
  },
  {
   "cell_type": "code",
   "execution_count": 7,
   "metadata": {},
   "outputs": [
    {
     "name": "stdout",
     "output_type": "stream",
     "text": [
      "dans le \n",
      "   3023\n",
      "x    40\n",
      "= 120920\n",
      " de maman\n"
     ]
    }
   ],
   "source": [
    "print(f'dans le {make_mult(str2bignum(\"lit\"), 2)} de maman')"
   ]
  },
  {
   "cell_type": "code",
   "execution_count": 8,
   "metadata": {},
   "outputs": [
    {
     "name": "stdout",
     "output_type": "stream",
     "text": [
      "sur l' \n",
      "    11245914 \n",
      "+    3934495\n",
      "= 15180409\n",
      " de papa\n"
     ]
    }
   ],
   "source": [
    "print(f'sur l\\' {make_add(str2bignum(\"ordi\"))} de papa')"
   ]
  },
  {
   "cell_type": "code",
   "execution_count": 9,
   "metadata": {},
   "outputs": [
    {
     "name": "stdout",
     "output_type": "stream",
     "text": [
      "va aux \n",
      "    2118745324766 \n",
      "+    961363865753\n",
      "= 3080109190519\n",
      " qui sont en haut du \n",
      "    227507428 \n",
      "+    80503888\n",
      "= 308011316\n",
      "\n"
     ]
    }
   ],
   "source": [
    "print(f'va aux {make_add(str2bignum(\"chaises\"))} qui sont en haut du {make_add(str2bignum(\"champ\"))}')"
   ]
  },
  {
   "cell_type": "code",
   "execution_count": 10,
   "metadata": {},
   "outputs": [
    {
     "name": "stdout",
     "output_type": "stream",
     "text": [
      "dans la \n",
      "   602141\n",
      "x       5\n",
      "= 3010705\n",
      "\n"
     ]
    }
   ],
   "source": [
    "print(f'dans la {make_mult(str2bignum(\"cage\"), 3)}')"
   ]
  },
  {
   "cell_type": "code",
   "execution_count": 11,
   "metadata": {},
   "outputs": [
    {
     "name": "stdout",
     "output_type": "stream",
     "text": [
      "mais ou est le \n",
      "   23\n",
      "x 879\n",
      "= 20217\n",
      "\n"
     ]
    }
   ],
   "source": [
    "print(f'mais ou est le {make_mult(str2bignum(\"BBQ\"), 3)}')"
   ]
  },
  {
   "cell_type": "code",
   "execution_count": 12,
   "metadata": {},
   "outputs": [
    {
     "name": "stdout",
     "output_type": "stream",
     "text": [
      "sous la \n",
      "   260093705\n",
      "x        621\n",
      "= 161518190805\n",
      "\n"
     ]
    }
   ],
   "source": [
    "print(f'sous la {make_mult(str2bignum(\"porshe\"), 3)}')"
   ]
  },
  {
   "cell_type": "code",
   "execution_count": 13,
   "metadata": {},
   "outputs": [
    {
     "name": "stdout",
     "output_type": "stream",
     "text": [
      "bonjour monsieur \n",
      "   3056613\n",
      "x      463\n",
      "= 1415211819\n",
      "\n"
     ]
    }
   ],
   "source": [
    "print(f'bonjour monsieur {make_mult(str2bignum(\"nours\"), 3)}')"
   ]
  },
  {
   "cell_type": "code",
   "execution_count": 14,
   "metadata": {},
   "outputs": [
    {
     "name": "stdout",
     "output_type": "stream",
     "text": [
      "la ou tu avais vu un \n",
      "    10184841 \n",
      "+    4867265\n",
      "= 15052106\n",
      " qui etait tout \n",
      "   163117\n",
      "x      13\n",
      "= 2120521\n",
      "\n"
     ]
    }
   ],
   "source": [
    "print(f'la ou tu avais vu un {make_add(str2bignum(\"oeuf\"))} qui etait tout {make_mult(str2bignum(\"bleu\"))}')"
   ]
  },
  {
   "cell_type": "code",
   "execution_count": 15,
   "metadata": {},
   "outputs": [
    {
     "name": "stdout",
     "output_type": "stream",
     "text": [
      "va faire une partie de \n",
      "   26803\n",
      "x     75\n",
      "= 2010225\n",
      "\n"
     ]
    }
   ],
   "source": [
    "print(f'va faire une partie de {make_mult(str2bignum(\"baby\"), 2)}')"
   ]
  },
  {
   "cell_type": "code",
   "execution_count": 16,
   "metadata": {},
   "outputs": [
    {
     "name": "stdout",
     "output_type": "stream",
     "text": [
      "va faire du \n",
      "    1079336864981378 \n",
      "+    935684642088736\n",
      "= 2015021507070114\n",
      "\n"
     ]
    }
   ],
   "source": [
    "print(f'va faire du {make_add(str2bignum(\"toboggan\"))}')"
   ]
  },
  {
   "cell_type": "code",
   "execution_count": 17,
   "metadata": {},
   "outputs": [
    {
     "name": "stdout",
     "output_type": "stream",
     "text": [
      "dans la \n",
      "    219141160075571 \n",
      "+    88910149064934\n",
      "= 308051309140505\n",
      "\n"
     ]
    }
   ],
   "source": [
    "print(f'dans la {make_add(str2bignum(\"cheminee\"))}')"
   ]
  },
  {
   "cell_type": "code",
   "execution_count": 18,
   "metadata": {},
   "outputs": [
    {
     "name": "stdout",
     "output_type": "stream",
     "text": [
      "dans le \n",
      "   70714\n",
      "x     87\n",
      "= 6152118\n",
      "\n"
     ]
    }
   ],
   "source": [
    "print(f'dans le {make_mult(str2bignum(\"four\"), 2)}')"
   ]
  },
  {
   "cell_type": "code",
   "execution_count": null,
   "metadata": {},
   "outputs": [],
   "source": []
  },
  {
   "cell_type": "code",
   "execution_count": null,
   "metadata": {},
   "outputs": [],
   "source": []
  },
  {
   "cell_type": "code",
   "execution_count": null,
   "metadata": {},
   "outputs": [],
   "source": []
  }
 ],
 "metadata": {
  "kernelspec": {
   "display_name": "Python 3",
   "language": "python",
   "name": "python3"
  },
  "language_info": {
   "codemirror_mode": {
    "name": "ipython",
    "version": 3
   },
   "file_extension": ".py",
   "mimetype": "text/x-python",
   "name": "python",
   "nbconvert_exporter": "python",
   "pygments_lexer": "ipython3",
   "version": "3.7.6"
  }
 },
 "nbformat": 4,
 "nbformat_minor": 4
}
