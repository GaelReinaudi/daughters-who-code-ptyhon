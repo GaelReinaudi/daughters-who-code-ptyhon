{
 "cells": [
  {
   "cell_type": "code",
   "execution_count": 2,
   "metadata": {},
   "outputs": [],
   "source": [
    "import random"
   ]
  },
  {
   "cell_type": "code",
   "execution_count": 22,
   "metadata": {},
   "outputs": [
    {
     "name": "stdout",
     "output_type": "stream",
     "text": [
      "98\n",
      "60\n",
      "60\n",
      "75\n",
      "95\n",
      "80\n",
      "58\n",
      "72\n",
      "73\n",
      "76\n",
      "70\n",
      "97\n",
      "73\n",
      "86\n",
      "64\n",
      "66\n",
      "87\n"
     ]
    }
   ],
   "source": [
    "filename = 'grades.txt'\n",
    "numGrades = 17\n",
    "with open(filename, 'w') as file:\n",
    "    for i in range(numGrades):\n",
    "        grade = random.randrange(55,101)\n",
    "        print(grade)\n",
    "        file.write(str(grade)+'\\n')"
   ]
  },
  {
   "cell_type": "code",
   "execution_count": null,
   "metadata": {},
   "outputs": [],
   "source": []
  }
 ],
 "metadata": {
  "kernelspec": {
   "display_name": "Python 3",
   "language": "python",
   "name": "python3"
  },
  "language_info": {
   "codemirror_mode": {
    "name": "ipython",
    "version": 3
   },
   "file_extension": ".py",
   "mimetype": "text/x-python",
   "name": "python",
   "nbconvert_exporter": "python",
   "pygments_lexer": "ipython3",
   "version": "3.6.8"
  }
 },
 "nbformat": 4,
 "nbformat_minor": 2
}
